{
  "nbformat": 4,
  "nbformat_minor": 0,
  "metadata": {
    "colab": {
      "provenance": [],
      "authorship_tag": "ABX9TyNo6V/EyuBPGi0T7fDAqpZs",
      "include_colab_link": true
    },
    "kernelspec": {
      "name": "python3",
      "display_name": "Python 3"
    },
    "language_info": {
      "name": "python"
    }
  },
  "cells": [
    {
      "cell_type": "markdown",
      "metadata": {
        "id": "view-in-github",
        "colab_type": "text"
      },
      "source": [
        "<a href=\"https://colab.research.google.com/github/fabiandurango13-bit/Prog_Agro_2025_2/blob/main/semana_decisiones_2_y_3.ipynb\" target=\"_parent\"><img src=\"https://colab.research.google.com/assets/colab-badge.svg\" alt=\"Open In Colab\"/></a>"
      ]
    },
    {
      "cell_type": "code",
      "execution_count": null,
      "metadata": {
        "id": "8I-4Z1zexRdx"
      },
      "outputs": [],
      "source": []
    },
    {
      "cell_type": "markdown",
      "source": [
        "# Situación de Interés en Ingeniería Agrícola :\n",
        "1. Se está diseñando el software para un sistema de riego “inteligente”.\n",
        "2. El programa debe leer el nivel de humedad actual del suelo (un valor de 0 a 100)\n",
        "y decidir qué acción tomar:\n",
        ">no hacer nada,\n",
        ">aplicar un riego ligero o\n",
        ">aplicar un riego profundo, según\n",
        "umbrales predefinidos.\n"
      ],
      "metadata": {
        "id": "eaGh4S0YydCv"
      }
    },
    {
      "cell_type": "code",
      "source": [
        "# Caso de Ingeniería Agrícola: Lógica de Riego Inteligente (if/elif/else)\n",
        "# 1. Definir los umbrales de humedad\n",
        "# (ej. por debajo de 30% es seco, entre 30% y 70% es óptimo, por encima de 70% es saturado).\n",
        "\n",
        "# Pedir al usuario el nivel de humedad actual.\n",
        "humedad_actual = float(input(\"Ingrese el nivel de humedad actual (en %): \"))\n",
        "if humedad_actual < 30:\n",
        "  print(\"El suelo está seco.\")\n",
        "elif humedad_actual >= 30 and humedad_actual <= 70:\n",
        "  print(\"El suelo está óptimo. Es necesario riesgo\")\n",
        "else:\n",
        "  print(\"El suelo está saturado. No es becesario riesgo\")"
      ],
      "metadata": {
        "colab": {
          "base_uri": "https://localhost:8080/"
        },
        "id": "BuPcdqQszZdn",
        "outputId": "f2dd60a9-10c0-41bc-bbb9-072f66502b8f"
      },
      "execution_count": 3,
      "outputs": [
        {
          "output_type": "stream",
          "name": "stdout",
          "text": [
            "Ingrese el nivel de humedad actual (en %): 100\n",
            "El suelo está saturado. No es becesario riesgo\n"
          ]
        }
      ]
    }
  ]
}