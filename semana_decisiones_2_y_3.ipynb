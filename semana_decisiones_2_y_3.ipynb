{
  "nbformat": 4,
  "nbformat_minor": 0,
  "metadata": {
    "colab": {
      "provenance": [],
      "authorship_tag": "ABX9TyMVz6ww84BYIajWnYXm2NbW",
      "include_colab_link": true
    },
    "kernelspec": {
      "name": "python3",
      "display_name": "Python 3"
    },
    "language_info": {
      "name": "python"
    }
  },
  "cells": [
    {
      "cell_type": "markdown",
      "metadata": {
        "id": "view-in-github",
        "colab_type": "text"
      },
      "source": [
        "<a href=\"https://colab.research.google.com/github/fabiandurango13-bit/Prog_Agro_2025_2/blob/main/semana_decisiones_2_y_3.ipynb\" target=\"_parent\"><img src=\"https://colab.research.google.com/assets/colab-badge.svg\" alt=\"Open In Colab\"/></a>"
      ]
    },
    {
      "cell_type": "code",
      "execution_count": null,
      "metadata": {
        "id": "8I-4Z1zexRdx"
      },
      "outputs": [],
      "source": []
    },
    {
      "cell_type": "markdown",
      "source": [
        "# Situación de Interés en Ingeniería Agrícola :\n",
        "1. Se está diseñando el software para un sistema de riego “inteligente”.\n",
        "2. El programa debe leer el nivel de humedad actual del suelo (un valor de 0 a 100)\n",
        "y decidir qué acción tomar:\n",
        ">no hacer nada,\n",
        ">aplicar un riego ligero o\n",
        ">aplicar un riego profundo, según\n",
        "umbrales predefinidos.\n"
      ],
      "metadata": {
        "id": "eaGh4S0YydCv"
      }
    },
    {
      "cell_type": "code",
      "source": [
        "# Caso de Ingeniería Agrícola: Lógica de Riego Inteligente (if/elif/else)\n",
        "# 1. Definir los umbrales de humedad\n",
        "# (ej. por debajo de 30% es seco, entre 30% y 70% es óptimo, por encima de 70% es saturado).\n",
        "\n",
        "# Pedir al usuario el nivel de humedad actual.\n",
        "humedad_actual = float(input(\"Ingrese el nivel de humedad actual (en %): \"))\n",
        "if humedad_actual < 30:\n",
        "  print(\"El suelo está seco.\")\n",
        "elif humedad_actual >= 30 and humedad_actual <= 70:\n",
        "  print(\"El suelo está óptimo. Es necesario riesgo\")\n",
        "else:\n",
        "  print(\"El suelo está saturado. No es becesario riesgo\")"
      ],
      "metadata": {
        "colab": {
          "base_uri": "https://localhost:8080/"
        },
        "id": "BuPcdqQszZdn",
        "outputId": "f2dd60a9-10c0-41bc-bbb9-072f66502b8f"
      },
      "execution_count": 3,
      "outputs": [
        {
          "output_type": "stream",
          "name": "stdout",
          "text": [
            "Ingrese el nivel de humedad actual (en %): 100\n",
            "El suelo está saturado. No es becesario riesgo\n"
          ]
        }
      ]
    },
    {
      "cell_type": "markdown",
      "source": [
        "# Situación de Interés en Ingeniería Agroindustrial ￿:\n",
        "1. En una línea de empaque de frutas, unsensor mide el peso de cada fruta.\n",
        "2. Se necesita un programa que analice una lista de pesos de un lote y cuente\n",
        ">. cuántas frutas cumplen con el estándar de “Exportación” (ej. > 250g),\n",
        ">cuántas son de “Mercado\n",
        "Nacional” (entre 150g y 250g) y\n",
        ">cuántas se consideran “Rechazo” (< 150g)."
      ],
      "metadata": {
        "id": "SfaDjbC25966"
      }
    },
    {
      "cell_type": "code",
      "source": [
        "# Clasificación de Lote (for loop)\n",
        "# Definir una lista con los pesos de las frutas del lote (para simular los datos del sensor).\n",
        "pesos = [100, 95, 150, 200, 300, 280, 30, 300, 111, 120, 400, 250, 456]\n",
        " # Inicializar tres contadores en cero: exportacion, nacional y rechazo\n",
        "exportacion = 0\n",
        "nacional = 0\n",
        "rechazo = 0\n",
        "# recorrer la lista de pesos y clasificar cada fruta.\n",
        "for peso in pesos:\n",
        "  if peso > 250:\n",
        "    exportacion += 1\n",
        "  elif peso >= 150 and peso <= 250:\n",
        "    nacional += 1\n",
        "  else:\n",
        "    rechazo += 1\n",
        "\n",
        "# Después de que el bucle termine, imprimir los totales de cada categoría.\n",
        "print(\"Frutas de Exportación: \", exportacion)\n",
        "print(\"Frutas de Mercado Nacional: \", nacional)\n",
        "print(\"Frutas Rechazadas: \", rechazo)"
      ],
      "metadata": {
        "colab": {
          "base_uri": "https://localhost:8080/"
        },
        "id": "WUuEi57u7Xo5",
        "outputId": "e1fe85ee-a10c-4e64-d847-959011890276"
      },
      "execution_count": 4,
      "outputs": [
        {
          "output_type": "stream",
          "name": "stdout",
          "text": [
            "Frutas de Exportación:  5\n",
            "Frutas de Mercado Nacional:  3\n",
            "Frutas Rechazadas:  5\n"
          ]
        }
      ]
    }
  ]
}